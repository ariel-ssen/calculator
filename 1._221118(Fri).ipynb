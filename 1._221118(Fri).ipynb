{
 "cells": [
  {
   "cell_type": "markdown",
   "id": "a06ca1d8-aee1-459f-ad98-5d18f08a607f",
   "metadata": {},
   "source": [
    "# Git 특강"
   ]
  },
  {
   "cell_type": "code",
   "execution_count": null,
   "id": "2952ea17-e374-484b-9f1f-4c4bdc46ae0c",
   "metadata": {},
   "outputs": [],
   "source": [
    "목차\n",
    "1) Git이란 무엇인가?\n",
    "2) Github 계정 생성 및 프로필 설정\n",
    "3) Git Command\n",
    "4) 상황별 실습"
   ]
  },
  {
   "cell_type": "code",
   "execution_count": null,
   "id": "f51d824e-ce2d-42c8-a2f3-d49e6e5cb690",
   "metadata": {},
   "outputs": [],
   "source": [
    "Git이란 무엇인가? 분산 버전 관리 시스템"
   ]
  },
  {
   "cell_type": "code",
   "execution_count": null,
   "id": "3b97d315-b60b-4de5-a2cc-1b40a8f292b9",
   "metadata": {},
   "outputs": [],
   "source": [
    "Git vs Github(git을 웹서비스에서 사용할 수 있도록 해주는 역할, 버전 관리와 협업을 위한 git  호스팅 서비스)"
   ]
  },
  {
   "cell_type": "code",
   "execution_count": null,
   "id": "906564fd-992d-493d-a558-115c60e56008",
   "metadata": {},
   "outputs": [],
   "source": [
    "Git을 왜 사용해야 하는가?\n",
    "1) 버전 관리를 위해\n",
    "2) 이전 버전의 파일을 쉽게 복구\n",
    "3) 여러 사람과 협업하여 효율적으로 코드를 관리"
   ]
  },
  {
   "cell_type": "code",
   "execution_count": null,
   "id": "a47c75d6-0e42-48ca-8bab-7e838f5b4369",
   "metadata": {},
   "outputs": [],
   "source": [
    "Master(Main) -> Your Work + Someone Else's Work "
   ]
  },
  {
   "cell_type": "code",
   "execution_count": null,
   "id": "4fa3ccf9-8c35-4423-a3a2-a0582c9c5c89",
   "metadata": {},
   "outputs": [],
   "source": [
    "git add -> git commit - \"test\" -> git push"
   ]
  },
  {
   "cell_type": "code",
   "execution_count": null,
   "id": "4226017a-fc71-4f23-9d5e-cc77e46297d6",
   "metadata": {},
   "outputs": [],
   "source": []
  }
 ],
 "metadata": {
  "kernelspec": {
   "display_name": "Python 3 (ipykernel)",
   "language": "python",
   "name": "python3"
  },
  "language_info": {
   "codemirror_mode": {
    "name": "ipython",
    "version": 3
   },
   "file_extension": ".py",
   "mimetype": "text/x-python",
   "name": "python",
   "nbconvert_exporter": "python",
   "pygments_lexer": "ipython3",
   "version": "3.9.12"
  }
 },
 "nbformat": 4,
 "nbformat_minor": 5
}
